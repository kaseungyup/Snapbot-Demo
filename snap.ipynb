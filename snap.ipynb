{
 "cells": [
  {
   "cell_type": "markdown",
   "metadata": {},
   "source": [
    "## IMPORT LIBRARIES"
   ]
  },
  {
   "cell_type": "code",
   "execution_count": 1,
   "metadata": {},
   "outputs": [
    {
     "name": "stdout",
     "output_type": "stream",
     "text": [
      "PACKAGES LOADED.\n"
     ]
    }
   ],
   "source": [
    "import cv2\n",
    "import os\n",
    "import numpy as np\n",
    "import time\n",
    "import math\n",
    "import apriltag\n",
    "import pyrealsense2 as rs\n",
    "from realworld_func.class_motionhelper import tracker, timer\n",
    "from utils.utils_real import *\n",
    "from utils.utils_track import tps_trans, get_tps_mat\n",
    "from optical_flow.optical_flow import *\n",
    "from optical_flow.run_snapbot_tps_opticalflow import *\n",
    "from publisher import publish_xy\n",
    "\n",
    "print (\"PACKAGES LOADED.\")"
   ]
  },
  {
   "cell_type": "markdown",
   "metadata": {},
   "source": [
    "## INSTANTIATE SNAPBOT"
   ]
  },
  {
   "cell_type": "code",
   "execution_count": 7,
   "metadata": {},
   "outputs": [],
   "source": [
    "# leg_idx = [17, 18, 19, 20, 21, 22, 23, 24]\n",
    "# prepare_snapbot(leg_idx=leg_idx)"
   ]
  },
  {
   "cell_type": "code",
   "execution_count": 4,
   "metadata": {},
   "outputs": [
    {
     "name": "stdout",
     "output_type": "stream",
     "text": [
      "[SNAPBOT] INSTANTIATED AT [b'/dev/ttyUSB1']\n",
      "[SNAPBOT] CONNECT\n",
      "[PortHandler setup] The port number 0 has same device name... reinitialize port number 0!!\n",
      " SUCCEEDED TO OPEN THE PORT!\n",
      " SUCCEEDED TO CHANGE THE BAUDRATE!\n",
      "COMMUNICATION SUCCESS\n",
      "[SNAPBOT] DETECT ID\n",
      "[SNAPBOT] [8]MOTORS DETECTED \n",
      "[SNAPBOT] ID_LIST:[[17, 18, 19, 20, 21, 22, 23, 24]]\n",
      "[SNAPBOT] SYNCREAD FAIL\n",
      "[GET_CURRPOS] ERROR, PROBABILLY [[0 0 0 0 0 0 0 0]]\n",
      "INITIALIZE POSITION\n"
     ]
    }
   ],
   "source": [
    "snapbot = xm430('SNAPBOT', USB_NUM=1)\n",
    "snapbot.connect()\n",
    "leg_idx = [17, 18, 19, 20, 21, 22, 23, 24]\n",
    "snapbot.IDX_LIST = leg_idx\n",
    "print (\"INITIALIZE POSITION\")\n",
    "snapbot.set_delaytime([30])\n",
    "snapbot.set_pidgains(20, 0, 0)\n",
    "snapbot.set_maxtorque([2000])\n",
    "snapbot.set_goalspeed([1500])\n",
    "snapbot.set_torque([1])"
   ]
  },
  {
   "cell_type": "markdown",
   "metadata": {},
   "source": [
    "## INITIALIZATION"
   ]
  },
  {
   "cell_type": "code",
   "execution_count": 5,
   "metadata": {},
   "outputs": [
    {
     "name": "stdout",
     "output_type": "stream",
     "text": [
      "[SNAPBOT] SYNCREAD FAIL\n",
      "[GET_CURRPOS] ERROR, PROBABILLY [[0 0 0 0 0 0 0 0]]\n",
      "[0 0 0 0 0 0 0 0]\n",
      "INITIALIZE POSITION\n"
     ]
    }
   ],
   "source": [
    "snapbot.set_goalpos([2048, 2048, 2048, 2048, 2048, 2048, 2048, 2048])\n",
    "print (snapbot.get_currpos())\n",
    "print (\"INITIALIZE POSITION\")"
   ]
  },
  {
   "cell_type": "markdown",
   "metadata": {},
   "source": [
    "## JOINT TRAJECTORY"
   ]
  },
  {
   "cell_type": "code",
   "execution_count": 10,
   "metadata": {},
   "outputs": [
    {
     "name": "stdout",
     "output_type": "stream",
     "text": [
      "TIMER WITH [50]HZ INITIALIZED. MAX_SEC IS [100.0sec].\n",
      "FINISHED\n"
     ]
    }
   ],
   "source": [
    "poses = np.load('qpos_dlpg/qpos_dlpg_17.npy')\n",
    "run_snapbot(poses[:],snapbot,50,100)"
   ]
  },
  {
   "cell_type": "markdown",
   "metadata": {},
   "source": [
    "## TPS"
   ]
  },
  {
   "cell_type": "code",
   "execution_count": null,
   "metadata": {},
   "outputs": [],
   "source": [
    "tps_coef = get_tps_mat()\n",
    "print(tps_coef)"
   ]
  },
  {
   "cell_type": "code",
   "execution_count": null,
   "metadata": {},
   "outputs": [],
   "source": [
    "publish_xy(tps_coef, 20, 50, VERBOSE = True)"
   ]
  },
  {
   "cell_type": "code",
   "execution_count": null,
   "metadata": {},
   "outputs": [],
   "source": [
    "qpos = np.load('qpos_dlpg/qpos_dlpg_17.npy')\n",
    "run_snapbot_tps(qpos, tps_coef, snapbot, 50, 5, VERBOSE=False, ROS_publish = True)"
   ]
  },
  {
   "cell_type": "markdown",
   "metadata": {},
   "source": [
    "## "
   ]
  },
  {
   "cell_type": "markdown",
   "metadata": {},
   "source": [
    "## OPTICAL FLOW"
   ]
  },
  {
   "cell_type": "code",
   "execution_count": null,
   "metadata": {},
   "outputs": [],
   "source": [
    "snapbot_cam_idx = find_snapbotcamidx()\n",
    "print(snapbot_cam_idx)\n",
    "\n",
    "optical_flow_lk(snapbot_cam_idx[-1])"
   ]
  },
  {
   "cell_type": "markdown",
   "metadata": {},
   "source": [
    "## JOINT TRAJECTORY + TPS + OPTICAL FLOW"
   ]
  },
  {
   "cell_type": "code",
   "execution_count": null,
   "metadata": {},
   "outputs": [],
   "source": [
    "qpos = np.load('qpos_dlpg/qpos_dlpg_17.npy')\n",
    "\n",
    "tps_coef = get_tps_mat()\n",
    "print(tps_coef)\n",
    "\n",
    "snapbot_cam_idx = find_snapbotcamidx()\n",
    "print(snapbot_cam_idx)"
   ]
  },
  {
   "cell_type": "code",
   "execution_count": null,
   "metadata": {},
   "outputs": [],
   "source": [
    "run_snapbot_tps_opticalflow(qpos, tps_coef, snapbot, 50, 50, snapbot_cam_idx[-1], VERBOSE=True)"
   ]
  },
  {
   "cell_type": "markdown",
   "metadata": {},
   "source": [
    "## CLOSE SNAPBOT"
   ]
  },
  {
   "cell_type": "code",
   "execution_count": 11,
   "metadata": {},
   "outputs": [
    {
     "name": "stdout",
     "output_type": "stream",
     "text": [
      "[SNAPBOT] CLOSE\n"
     ]
    }
   ],
   "source": [
    "snapbot.set_torque([0])\n",
    "snapbot.close()"
   ]
  }
 ],
 "metadata": {
  "kernelspec": {
   "display_name": "Python 3.8.10 64-bit",
   "language": "python",
   "name": "python3"
  },
  "language_info": {
   "codemirror_mode": {
    "name": "ipython",
    "version": 3
   },
   "file_extension": ".py",
   "mimetype": "text/x-python",
   "name": "python",
   "nbconvert_exporter": "python",
   "pygments_lexer": "ipython3",
   "version": "3.8.10"
  },
  "orig_nbformat": 4,
  "vscode": {
   "interpreter": {
    "hash": "e7370f93d1d0cde622a1f8e1c04877d8463912d04d973331ad4851f04de6915a"
   }
  }
 },
 "nbformat": 4,
 "nbformat_minor": 2
}
