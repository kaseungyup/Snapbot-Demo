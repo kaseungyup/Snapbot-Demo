{
 "cells": [
  {
   "cell_type": "markdown",
   "metadata": {},
   "source": [
    "## IMPORT LIBRARIES"
   ]
  },
  {
   "cell_type": "code",
   "execution_count": 1,
   "metadata": {},
   "outputs": [
    {
     "name": "stdout",
     "output_type": "stream",
     "text": [
      "PACKAGES LOADED.\n"
     ]
    }
   ],
   "source": [
    "import cv2\n",
    "import os\n",
    "import numpy as np\n",
    "import time\n",
    "import math\n",
    "import apriltag\n",
    "import pyrealsense2 as rs\n",
    "from realworld_func.class_motionhelper import tracker, timer\n",
    "from utils_real import *\n",
    "from utils_track import tps_trans, get_tps_mat\n",
    "from optical_flow import *\n",
    "from run_snapbot_tps_opticalflow import *\n",
    "\n",
    "print (\"PACKAGES LOADED.\")"
   ]
  },
  {
   "cell_type": "markdown",
   "metadata": {},
   "source": [
    "## INSTANTIATE SNAPBOT"
   ]
  },
  {
   "cell_type": "code",
   "execution_count": 3,
   "metadata": {},
   "outputs": [
    {
     "name": "stdout",
     "output_type": "stream",
     "text": [
      "[SNAPBOT] INSTANTIATED AT [b'/dev/ttyUSB2']\n",
      "[SNAPBOT] CONNECT\n",
      "[PortHandler setup] The port number 0 has same device name... reinitialize port number 0!!\n",
      " SUCCEEDED TO OPEN THE PORT!\n",
      " SUCCEEDED TO CHANGE THE BAUDRATE!\n",
      "COMMUNICATION SUCCESS\n",
      "[SNAPBOT] DETECT ID\n",
      "[SNAPBOT] [8]MOTORS DETECTED \n",
      "[SNAPBOT] ID_LIST:[[15, 16, 17, 18, 19, 20, 21, 22]]\n",
      "INITIALIZE POSITION\n"
     ]
    }
   ],
   "source": [
    "snapbot = xm430('SNAPBOT', USB_NUM=2)\n",
    "snapbot.connect()\n",
    "print (\"INITIALIZE POSITION\")\n",
    "snapbot.set_delaytime([30])\n",
    "snapbot.set_pidgains(20, 0, 0)\n",
    "snapbot.set_maxtorque([2000])\n",
    "snapbot.set_goalspeed([1500])\n",
    "snapbot.set_torque([1])"
   ]
  },
  {
   "cell_type": "markdown",
   "metadata": {},
   "source": [
    "## INITIALIZATION"
   ]
  },
  {
   "cell_type": "code",
   "execution_count": 4,
   "metadata": {},
   "outputs": [
    {
     "name": "stdout",
     "output_type": "stream",
     "text": [
      "[2047 2057 2049 2035 2049 2054 2050 2047]\n",
      "INITIALIZE POSITION\n"
     ]
    }
   ],
   "source": [
    "snapbot.set_goalpos([2048, 2048, 2048, 2048, 2048, 2048, 2048, 2048])\n",
    "print (snapbot.get_currpos())\n",
    "print (\"INITIALIZE POSITION\")"
   ]
  },
  {
   "cell_type": "markdown",
   "metadata": {},
   "source": [
    "## JOINT TRAJECTORY"
   ]
  },
  {
   "cell_type": "code",
   "execution_count": 5,
   "metadata": {},
   "outputs": [
    {
     "name": "stdout",
     "output_type": "stream",
     "text": [
      "TIMER WITH [50]HZ INITIALIZED. MAX_SEC IS [100.0sec].\n"
     ]
    },
    {
     "name": "stderr",
     "output_type": "stream",
     "text": [
      "[ERROR] [1666268419.156666]: Unable to immediately register with master node [http://localhost:11311]: master may not be running yet. Will keep trying.\n"
     ]
    },
    {
     "ename": "ROSInitException",
     "evalue": "init_node interrupted before it could complete",
     "output_type": "error",
     "traceback": [
      "\u001b[0;31m---------------------------------------------------------------------------\u001b[0m",
      "\u001b[0;31mROSInitException\u001b[0m                          Traceback (most recent call last)",
      "Cell \u001b[0;32mIn [5], line 2\u001b[0m\n\u001b[1;32m      1\u001b[0m poses \u001b[39m=\u001b[39m np\u001b[39m.\u001b[39mload(\u001b[39m'\u001b[39m\u001b[39mqpos_dlpg/qpos_dlpg_17.npy\u001b[39m\u001b[39m'\u001b[39m)\n\u001b[0;32m----> 2\u001b[0m run_snapbot(poses,snapbot,\u001b[39m50\u001b[39m,\u001b[39m100\u001b[39m)\n",
      "File \u001b[0;32m~/Project/Snapbot/utils_real.py:101\u001b[0m, in \u001b[0;36mrun_snapbot\u001b[0;34m(qpos, snapbot, Hz, max_sec)\u001b[0m\n\u001b[1;32m     98\u001b[0m \u001b[39mwhile\u001b[39;00m t\u001b[39m.\u001b[39mis_notfinished():\n\u001b[1;32m     99\u001b[0m     \u001b[39mif\u001b[39;00m t\u001b[39m.\u001b[39mdo_run():\n\u001b[1;32m    100\u001b[0m         \u001b[39m# pos = traj[idx]\u001b[39;00m\n\u001b[0;32m--> 101\u001b[0m         check_publisher(\u001b[39m\"\u001b[39;49m\u001b[39m1\u001b[39;49m\u001b[39m\"\u001b[39;49m, Hz)\n\u001b[1;32m    102\u001b[0m         \u001b[39m# idx = idx + 1\u001b[39;00m\n\u001b[1;32m    103\u001b[0m         \u001b[39m# snapbot.set_goalpos((np.array(pos, dtype=np.int32).tolist()))\u001b[39;00m\n\u001b[1;32m    104\u001b[0m         \u001b[39m# if idx == traj.shape[0]:\u001b[39;00m\n\u001b[1;32m    105\u001b[0m             \u001b[39m# t.finish()\u001b[39;00m\n\u001b[1;32m    106\u001b[0m \u001b[39mprint\u001b[39m(\u001b[39m\"\u001b[39m\u001b[39mFINISHED\u001b[39m\u001b[39m\"\u001b[39m)\n",
      "File \u001b[0;32m~/Project/Snapbot/publisher.py:18\u001b[0m, in \u001b[0;36mcheck_publisher\u001b[0;34m(flag, Hz)\u001b[0m\n\u001b[1;32m     16\u001b[0m \u001b[39mdef\u001b[39;00m \u001b[39mcheck_publisher\u001b[39m(flag, Hz):\n\u001b[1;32m     17\u001b[0m     pub \u001b[39m=\u001b[39m rospy\u001b[39m.\u001b[39mPublisher(\u001b[39m'\u001b[39m\u001b[39mflag\u001b[39m\u001b[39m'\u001b[39m, String, queue_size\u001b[39m=\u001b[39m\u001b[39m10\u001b[39m)\n\u001b[0;32m---> 18\u001b[0m     rospy\u001b[39m.\u001b[39;49minit_node(\u001b[39m'\u001b[39;49m\u001b[39mflag_publisher\u001b[39;49m\u001b[39m'\u001b[39;49m, anonymous\u001b[39m=\u001b[39;49m\u001b[39mTrue\u001b[39;49;00m)\n\u001b[1;32m     19\u001b[0m     rate \u001b[39m=\u001b[39m rospy\u001b[39m.\u001b[39mRate(Hz)\n\u001b[1;32m     21\u001b[0m     \u001b[39m# while not rospy.is_shutdown():\u001b[39;00m\n",
      "File \u001b[0;32m/opt/ros/noetic/lib/python3/dist-packages/rospy/client.py:323\u001b[0m, in \u001b[0;36minit_node\u001b[0;34m(name, argv, anonymous, log_level, disable_rostime, disable_rosout, disable_signals, xmlrpc_port, tcpros_port)\u001b[0m\n\u001b[1;32m    321\u001b[0m \u001b[39mif\u001b[39;00m rospy\u001b[39m.\u001b[39mcore\u001b[39m.\u001b[39mis_shutdown():\n\u001b[1;32m    322\u001b[0m     logger\u001b[39m.\u001b[39mwarn(\u001b[39m\"\u001b[39m\u001b[39maborting node initialization as shutdown has been triggered\u001b[39m\u001b[39m\"\u001b[39m)\n\u001b[0;32m--> 323\u001b[0m     \u001b[39mraise\u001b[39;00m rospy\u001b[39m.\u001b[39mexceptions\u001b[39m.\u001b[39mROSInitException(\u001b[39m\"\u001b[39m\u001b[39minit_node interrupted before it could complete\u001b[39m\u001b[39m\"\u001b[39m)\n\u001b[1;32m    325\u001b[0m \u001b[39m# upload private params (set via command-line) to parameter server\u001b[39;00m\n\u001b[1;32m    326\u001b[0m _init_node_params(argv, name)\n",
      "\u001b[0;31mROSInitException\u001b[0m: init_node interrupted before it could complete"
     ]
    }
   ],
   "source": [
    "poses = np.load('qpos_dlpg/qpos_dlpg_17.npy')\n",
    "run_snapbot(poses,snapbot,50,100)"
   ]
  },
  {
   "cell_type": "markdown",
   "metadata": {},
   "source": [
    "## TPS"
   ]
  },
  {
   "cell_type": "code",
   "execution_count": null,
   "metadata": {},
   "outputs": [],
   "source": [
    "tps_coef = get_tps_mat()\n",
    "print(tps_coef)"
   ]
  },
  {
   "cell_type": "code",
   "execution_count": null,
   "metadata": {},
   "outputs": [],
   "source": [
    "publish_xy(tps_coef, 20, 50, VERBOSE = True)"
   ]
  },
  {
   "cell_type": "code",
   "execution_count": null,
   "metadata": {},
   "outputs": [],
   "source": [
    "qpos = np.load('qpos_dlpg/qpos_dlpg_17.npy')\n",
    "run_snapbot_tps(qpos, tps_coef, snapbot, 50, 5, VERBOSE=False, ROS_publish = True)"
   ]
  },
  {
   "cell_type": "markdown",
   "metadata": {},
   "source": [
    "## "
   ]
  },
  {
   "cell_type": "markdown",
   "metadata": {},
   "source": [
    "## OPTICAL FLOW"
   ]
  },
  {
   "cell_type": "code",
   "execution_count": null,
   "metadata": {},
   "outputs": [],
   "source": [
    "snapbot_cam_idx = find_snapbotcamidx()\n",
    "print(snapbot_cam_idx)\n",
    "\n",
    "optical_flow(snapbot_cam_idx[-1])"
   ]
  },
  {
   "cell_type": "markdown",
   "metadata": {},
   "source": [
    "## JOINT TRAJECTORY + TPS + OPTICAL FLOW"
   ]
  },
  {
   "cell_type": "code",
   "execution_count": null,
   "metadata": {},
   "outputs": [],
   "source": [
    "qpos = np.load('qpos_dlpg/qpos_dlpg_17.npy')\n",
    "\n",
    "tps_coef = get_tps_mat()\n",
    "print(tps_coef)\n",
    "\n",
    "snapbot_cam_idx = find_snapbotcamidx()\n",
    "print(snapbot_cam_idx)"
   ]
  },
  {
   "cell_type": "code",
   "execution_count": null,
   "metadata": {},
   "outputs": [],
   "source": [
    "run_snapbot_tps_opticalflow(qpos, tps_coef, snapbot, 50, 50, snapbot_cam_idx[-1], VERBOSE=True)"
   ]
  },
  {
   "cell_type": "markdown",
   "metadata": {},
   "source": [
    "## CLOSE SNAPBOT"
   ]
  },
  {
   "cell_type": "code",
   "execution_count": null,
   "metadata": {},
   "outputs": [],
   "source": [
    "snapbot.set_torque([0])\n",
    "snapbot.close()"
   ]
  }
 ],
 "metadata": {
  "kernelspec": {
   "display_name": "Python 3.8.8 64-bit ('3.8.8')",
   "language": "python",
   "name": "python3"
  },
  "language_info": {
   "codemirror_mode": {
    "name": "ipython",
    "version": 3
   },
   "file_extension": ".py",
   "mimetype": "text/x-python",
   "name": "python",
   "nbconvert_exporter": "python",
   "pygments_lexer": "ipython3",
   "version": "3.8.8"
  },
  "orig_nbformat": 4,
  "vscode": {
   "interpreter": {
    "hash": "ee035a44b66c3dc61e3917affc548a596545d09625c19bd1d901dfec3a1393c5"
   }
  }
 },
 "nbformat": 4,
 "nbformat_minor": 2
}
