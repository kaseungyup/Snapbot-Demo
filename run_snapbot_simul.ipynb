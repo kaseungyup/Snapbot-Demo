{
 "cells": [
  {
   "cell_type": "code",
   "execution_count": 11,
   "metadata": {},
   "outputs": [],
   "source": [
    "import numpy as np\n",
    "from util_rollout import rollout\n",
    "from class_snapbot import Snapbot4EnvClass\n",
    "from class_pid import PIDControllerClass"
   ]
  },
  {
   "cell_type": "code",
   "execution_count": 13,
   "metadata": {},
   "outputs": [
    {
     "name": "stdout",
     "output_type": "stream",
     "text": [
      "Snapbot(4legs) Environment\n",
      "Obs Dim: [103] Act Dim: [8] dt:[0.02] Condition:[None]\n",
      "ctrl_coef:[0] body_coef:[0] jump_coef:[0] vel_coef:[0] head_coef:[0]\n"
     ]
    }
   ],
   "source": [
    "qpos = np.load('qpos_dlpg/qpos_dlpg_17.npy')\n",
    "env  = Snapbot4EnvClass(render_mode=None)\n",
    "PID   = PIDControllerClass(\n",
    "                            name      = 'PID',\n",
    "                            k_p       = 0.2,\n",
    "                            k_i       = 0.001,\n",
    "                            k_d       = 0.01,\n",
    "                            dt        = env.dt,\n",
    "                            dim       = env.adim\n",
    "                            )"
   ]
  },
  {
   "cell_type": "code",
   "execution_count": 16,
   "metadata": {},
   "outputs": [
    {
     "data": {
      "text/plain": [
       "(1001, 3)"
      ]
     },
     "execution_count": 16,
     "metadata": {},
     "output_type": "execute_result"
    }
   ],
   "source": [
    "rollout(env, PID, qpos, 1)['xy_degs'].shape"
   ]
  }
 ],
 "metadata": {
  "kernelspec": {
   "display_name": "Python 3.9.13 ('fire')",
   "language": "python",
   "name": "python3"
  },
  "language_info": {
   "codemirror_mode": {
    "name": "ipython",
    "version": 3
   },
   "file_extension": ".py",
   "mimetype": "text/x-python",
   "name": "python",
   "nbconvert_exporter": "python",
   "pygments_lexer": "ipython3",
   "version": "3.9.13"
  },
  "orig_nbformat": 4,
  "vscode": {
   "interpreter": {
    "hash": "b2f2268a60e4d97a40285db6811e05262e342cbe6971946de25ce3dd0515a4c5"
   }
  }
 },
 "nbformat": 4,
 "nbformat_minor": 2
}
